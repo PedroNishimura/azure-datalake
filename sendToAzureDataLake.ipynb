{
  "nbformat": 4,
  "nbformat_minor": 0,
  "metadata": {
    "colab": {
      "provenance": [],
      "authorship_tag": "ABX9TyMdSOzqTL69PKr9ZpqbyDXa",
      "include_colab_link": true
    },
    "kernelspec": {
      "name": "python3",
      "display_name": "Python 3"
    },
    "language_info": {
      "name": "python"
    }
  },
  "cells": [
    {
      "cell_type": "markdown",
      "metadata": {
        "id": "view-in-github",
        "colab_type": "text"
      },
      "source": [
        "<a href=\"https://colab.research.google.com/github/PedroNishimura/azure-datalake/blob/main/sendToAzureDataLake.ipynb\" target=\"_parent\"><img src=\"https://colab.research.google.com/assets/colab-badge.svg\" alt=\"Open In Colab\"/></a>"
      ]
    },
    {
      "cell_type": "code",
      "execution_count": 1,
      "metadata": {
        "colab": {
          "base_uri": "https://localhost:8080/"
        },
        "id": "De2wHuUOFgOP",
        "outputId": "5d9c5819-2786-4f5b-b3b8-ada8fb4704dc"
      },
      "outputs": [
        {
          "output_type": "stream",
          "name": "stdout",
          "text": [
            "\u001b[2K     \u001b[90m━━━━━━━━━━━━━━━━━━━━━━━━━━━━━━━━━━━━━━━━\u001b[0m \u001b[32m2.6/2.6 MB\u001b[0m \u001b[31m12.4 MB/s\u001b[0m eta \u001b[36m0:00:00\u001b[0m\n",
            "\u001b[?25h  Preparing metadata (setup.py) ... \u001b[?25l\u001b[?25hdone\n",
            "\u001b[2K     \u001b[90m━━━━━━━━━━━━━━━━━━━━━━━━━━━━━━━━━━━━━━━━\u001b[0m \u001b[32m394.5/394.5 kB\u001b[0m \u001b[31m13.4 MB/s\u001b[0m eta \u001b[36m0:00:00\u001b[0m\n",
            "\u001b[2K     \u001b[90m━━━━━━━━━━━━━━━━━━━━━━━━━━━━━━━━━━━━━━━━\u001b[0m \u001b[32m193.4/193.4 kB\u001b[0m \u001b[31m15.4 MB/s\u001b[0m eta \u001b[36m0:00:00\u001b[0m\n",
            "\u001b[2K     \u001b[90m━━━━━━━━━━━━━━━━━━━━━━━━━━━━━━━━━━━━━━━━\u001b[0m \u001b[32m41.7/41.7 kB\u001b[0m \u001b[31m2.5 MB/s\u001b[0m eta \u001b[36m0:00:00\u001b[0m\n",
            "\u001b[?25h  Building wheel for pandablob (setup.py) ... \u001b[?25l\u001b[?25hdone\n"
          ]
        }
      ],
      "source": [
        "!pip install pandablob -q"
      ]
    },
    {
      "cell_type": "code",
      "source": [
        "import pandas as pd\n",
        "import numpy as np\n",
        "import pandablob\n",
        "from google.colab import userdata\n",
        "from azure.storage.blob import ContainerClient"
      ],
      "metadata": {
        "id": "YxlqNBeZHtG6"
      },
      "execution_count": 8,
      "outputs": []
    },
    {
      "cell_type": "code",
      "source": [
        "df = pd.DataFrame(np.random.randint(0, 100, size=(100, 4)), columns=['A', 'B', 'C', 'D'])"
      ],
      "metadata": {
        "id": "098-53xTILXM"
      },
      "execution_count": 5,
      "outputs": []
    },
    {
      "cell_type": "code",
      "source": [
        "account_url = userdata.get('azure_url')\n",
        "token = userdata.get('azure_token')\n",
        "container = 'bronze/teste'\n",
        "blobname = 'teste.csv'\n",
        "\n",
        "container_client = ContainerClient(account_url, container, credential=token)\n",
        "blob_client = container_client.get_blob_client(blob=blobname)"
      ],
      "metadata": {
        "id": "UayhNEsdKTjw"
      },
      "execution_count": 11,
      "outputs": []
    },
    {
      "cell_type": "code",
      "source": [
        "pandablob.df_to_blob(df, blob_client, overwrite=True)"
      ],
      "metadata": {
        "colab": {
          "base_uri": "https://localhost:8080/"
        },
        "id": "0n0hv5npUEB6",
        "outputId": "6fe63c57-b0ad-4a7e-b07a-eb2bbb27ddcf"
      },
      "execution_count": 13,
      "outputs": [
        {
          "output_type": "execute_result",
          "data": {
            "text/plain": [
              "{'etag': '\"0x8DC46CC28690463\"',\n",
              " 'last_modified': datetime.datetime(2024, 3, 17, 21, 49, 44, tzinfo=datetime.timezone.utc),\n",
              " 'content_md5': bytearray(b'\\r\\x8d\\xa2\\xeb\\xc4\\x13\\xf2P\"Yu\\xab\\xbe\\x0e\\x16&'),\n",
              " 'client_request_id': '4429e5ca-e4a8-11ee-a7af-0242ac1c000c',\n",
              " 'request_id': '27792fe3-001e-00c5-19b5-7866da000000',\n",
              " 'version': '2023-11-03',\n",
              " 'version_id': None,\n",
              " 'date': datetime.datetime(2024, 3, 17, 21, 49, 44, tzinfo=datetime.timezone.utc),\n",
              " 'request_server_encrypted': True,\n",
              " 'encryption_key_sha256': None,\n",
              " 'encryption_scope': None}"
            ]
          },
          "metadata": {},
          "execution_count": 13
        }
      ]
    }
  ]
}